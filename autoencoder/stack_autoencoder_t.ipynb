{
 "cells": [
  {
   "cell_type": "code",
   "execution_count": 1,
   "metadata": {},
   "outputs": [],
   "source": [
    "import numpy as np\n",
    "import torch\n",
    "from torch import nn, Tensor\n",
    "from torch import optim\n",
    "import matplotlib.pyplot as plt\n",
    "from dataset_pre import minst\n",
    "from tqdm import tqdm"
   ]
  },
  {
   "cell_type": "code",
   "execution_count": 2,
   "metadata": {},
   "outputs": [],
   "source": [
    "np.random.seed(33)   # random seed，to reproduce results."
   ]
  },
  {
   "cell_type": "markdown",
   "metadata": {},
   "source": [
    "# 参数"
   ]
  },
  {
   "cell_type": "code",
   "execution_count": 3,
   "metadata": {},
   "outputs": [],
   "source": [
    "ENCODING_DIM_INPUT = 784\n",
    "ENCODING_DIM_LAYER1 = 128\n",
    "ENCODING_DIM_LAYER2 = 64\n",
    "ENCODING_DIM_LAYER3 = 10\n",
    "ENCODING_DIM_OUTPUT = 2\n",
    "EPOCHS = 20\n",
    "BATCH_SIZE = 64\n",
    "SAVE_PATH = \"stackautoencoder.pth\""
   ]
  },
  {
   "cell_type": "markdown",
   "metadata": {},
   "source": [
    "# model"
   ]
  },
  {
   "cell_type": "code",
   "execution_count": null,
   "metadata": {},
   "outputs": [],
   "source": [
    "torch.cuda.is_available()"
   ]
  },
  {
   "cell_type": "code",
   "execution_count": 4,
   "metadata": {},
   "outputs": [],
   "source": [
    "class StackAutoEncoder(nn.Module):\n",
    "    def __init__(self) -> None:\n",
    "        super().__init__()\n",
    "        self.encoder = nn.Sequential(\n",
    "            nn.Linear(ENCODING_DIM_INPUT, ENCODING_DIM_LAYER1),\n",
    "            nn.ReLU(),\n",
    "            nn.Linear(ENCODING_DIM_LAYER1, ENCODING_DIM_LAYER2),\n",
    "            nn.ReLU(),\n",
    "            nn.Linear(ENCODING_DIM_LAYER2, ENCODING_DIM_LAYER3),\n",
    "            nn.ReLU(),\n",
    "            nn.Linear(ENCODING_DIM_LAYER3, ENCODING_DIM_OUTPUT),\n",
    "        )\n",
    "        self.decoder = nn.Sequential(\n",
    "            nn.Linear(ENCODING_DIM_OUTPUT, ENCODING_DIM_LAYER3),\n",
    "            nn.ReLU(),\n",
    "            nn.Linear(ENCODING_DIM_LAYER3, ENCODING_DIM_LAYER2),\n",
    "            nn.ReLU(),\n",
    "            nn.Linear(ENCODING_DIM_LAYER2, ENCODING_DIM_LAYER1),\n",
    "            nn.ReLU(),\n",
    "            nn.Linear(ENCODING_DIM_LAYER1, ENCODING_DIM_INPUT),\n",
    "            nn.Tanh(),\n",
    "        )\n",
    "\n",
    "    def forward(self, x: Tensor) -> tuple[Tensor, Tensor]:\n",
    "        x = self.encoder(x) # [B, 784] -> [B, 2]\n",
    "        y = self.decoder(x) # [B, 2] -> [B, 784]\n",
    "        return x, y"
   ]
  },
  {
   "cell_type": "markdown",
   "metadata": {},
   "source": [
    "# train"
   ]
  },
  {
   "cell_type": "code",
   "execution_count": 5,
   "metadata": {},
   "outputs": [],
   "source": [
    "def train():\n",
    "    device = torch.device(\"cuda\") if torch.cuda.is_available() else torch.device(\"cpu\")\n",
    "    model = StackAutoEncoder().to(device)\n",
    "    optimizer = optim.Adam(model.parameters(), lr=0.001)\n",
    "    loss_fn = nn.MSELoss()\n",
    "\n",
    "    _, _, train_dataloader, val_dataloader = minst(batch_size=64)\n",
    "\n",
    "    # 初始loss设置为最大值\n",
    "    MIN_LOSS = np.Inf\n",
    "\n",
    "    for epoch in range(EPOCHS):\n",
    "        # train\n",
    "        pbar = tqdm(total=len(train_dataloader), desc=f\"epoch {epoch+1}/{EPOCHS} train\")\n",
    "        model.train()\n",
    "        for images, label in train_dataloader:\n",
    "            images = images.flatten(1)  # [B, C, H, W] -> [B, C*H*W]\n",
    "            images = images.to(device)\n",
    "\n",
    "            # forward\n",
    "            _, images_encoder = model(images)\n",
    "\n",
    "            loss = loss_fn(images, images_encoder)\n",
    "\n",
    "            optimizer.zero_grad()\n",
    "            loss.backward()\n",
    "            optimizer.step()\n",
    "\n",
    "            pbar.update(1)\n",
    "            pbar.set_postfix(**{\"loss\": loss.item()})\n",
    "        pbar.close()\n",
    "\n",
    "        # val\n",
    "        pbar = tqdm(total=len(val_dataloader), desc=f\"epoch {epoch+1}/{EPOCHS} val\")\n",
    "        model.eval()\n",
    "        losssum = 0\n",
    "        for images, label in val_dataloader:\n",
    "            images = images.flatten(1)  # [B, C, H, W] -> [B, C*H*W]\n",
    "            images = images.to(device)\n",
    "\n",
    "            # forward\n",
    "            with torch.inference_mode():\n",
    "                _, images_encoder = model(images)\n",
    "\n",
    "            loss = loss_fn(images, images_encoder)\n",
    "            losssum += loss.item()\n",
    "\n",
    "            pbar.update(1)\n",
    "            pbar.set_postfix(**{\"loss\": loss.item()})\n",
    "        var_loss_avg = losssum / len(val_dataloader)\n",
    "        pbar.set_postfix(**{\"avg_loss\": var_loss_avg})\n",
    "        pbar.close()\n",
    "\n",
    "        # 保存权重\n",
    "        if MIN_LOSS > var_loss_avg:\n",
    "            MIN_LOSS = var_loss_avg\n",
    "            torch.save(model.state_dict(), SAVE_PATH)"
   ]
  },
  {
   "cell_type": "code",
   "execution_count": 6,
   "metadata": {},
   "outputs": [
    {
     "name": "stdout",
     "output_type": "stream",
     "text": [
      "train images: 60000, val images: 10000\n"
     ]
    },
    {
     "name": "stderr",
     "output_type": "stream",
     "text": [
      "epoch 1/20 train: 100%|██████████| 938/938 [00:09<00:00, 94.14it/s, loss=0.0507] \n",
      "epoch 1/20 val: 100%|██████████| 157/157 [00:03<00:00, 46.49it/s, avg_loss=0.0493] \n",
      "epoch 2/20 train: 100%|██████████| 938/938 [00:10<00:00, 91.81it/s, loss=0.0483] \n",
      "epoch 2/20 val: 100%|██████████| 157/157 [00:03<00:00, 46.57it/s, avg_loss=0.0449] \n",
      "epoch 3/20 train: 100%|██████████| 938/938 [00:13<00:00, 71.05it/s, loss=0.041]  \n",
      "epoch 3/20 val: 100%|██████████| 157/157 [00:04<00:00, 32.08it/s, avg_loss=0.0433] \n",
      "epoch 4/20 train: 100%|██████████| 938/938 [00:15<00:00, 59.11it/s, loss=0.0418]\n",
      "epoch 4/20 val: 100%|██████████| 157/157 [00:04<00:00, 35.81it/s, avg_loss=0.0421] \n",
      "epoch 5/20 train: 100%|██████████| 938/938 [00:13<00:00, 69.41it/s, loss=0.04]   \n",
      "epoch 5/20 val: 100%|██████████| 157/157 [00:03<00:00, 42.67it/s, avg_loss=0.0418] \n",
      "epoch 6/20 train: 100%|██████████| 938/938 [00:17<00:00, 53.09it/s, loss=0.0409] \n",
      "epoch 6/20 val: 100%|██████████| 157/157 [00:03<00:00, 46.68it/s, avg_loss=0.0412] \n",
      "epoch 7/20 train: 100%|██████████| 938/938 [00:10<00:00, 90.56it/s, loss=0.0467] \n",
      "epoch 7/20 val: 100%|██████████| 157/157 [00:03<00:00, 45.24it/s, avg_loss=0.0407] \n",
      "epoch 8/20 train: 100%|██████████| 938/938 [00:10<00:00, 89.19it/s, loss=0.0382] \n",
      "epoch 8/20 val: 100%|██████████| 157/157 [00:03<00:00, 46.25it/s, avg_loss=0.0402] \n",
      "epoch 9/20 train: 100%|██████████| 938/938 [00:10<00:00, 88.37it/s, loss=0.0327] \n",
      "epoch 9/20 val: 100%|██████████| 157/157 [00:03<00:00, 47.10it/s, avg_loss=0.0399] \n",
      "epoch 10/20 train: 100%|██████████| 938/938 [00:10<00:00, 88.46it/s, loss=0.039]  \n",
      "epoch 10/20 val: 100%|██████████| 157/157 [00:03<00:00, 45.46it/s, avg_loss=0.0394] \n",
      "epoch 11/20 train: 100%|██████████| 938/938 [00:10<00:00, 88.33it/s, loss=0.0399] \n",
      "epoch 11/20 val: 100%|██████████| 157/157 [00:03<00:00, 46.82it/s, avg_loss=0.04] \n",
      "epoch 12/20 train: 100%|██████████| 938/938 [00:11<00:00, 85.25it/s, loss=0.0397] \n",
      "epoch 12/20 val: 100%|██████████| 157/157 [00:03<00:00, 45.15it/s, avg_loss=0.0392] \n",
      "epoch 13/20 train: 100%|██████████| 938/938 [00:10<00:00, 88.29it/s, loss=0.0384] \n",
      "epoch 13/20 val: 100%|██████████| 157/157 [00:03<00:00, 45.26it/s, avg_loss=0.0387] \n",
      "epoch 14/20 train: 100%|██████████| 938/938 [00:11<00:00, 79.63it/s, loss=0.041]  \n",
      "epoch 14/20 val: 100%|██████████| 157/157 [00:03<00:00, 43.74it/s, avg_loss=0.0389] \n",
      "epoch 15/20 train: 100%|██████████| 938/938 [00:11<00:00, 81.82it/s, loss=0.0379] \n",
      "epoch 15/20 val: 100%|██████████| 157/157 [00:03<00:00, 43.12it/s, avg_loss=0.0383] \n",
      "epoch 16/20 train: 100%|██████████| 938/938 [00:11<00:00, 82.12it/s, loss=0.0362] \n",
      "epoch 16/20 val: 100%|██████████| 157/157 [00:03<00:00, 44.46it/s, avg_loss=0.0383] \n",
      "epoch 17/20 train: 100%|██████████| 938/938 [00:11<00:00, 80.74it/s, loss=0.037]  \n",
      "epoch 17/20 val: 100%|██████████| 157/157 [00:03<00:00, 42.64it/s, avg_loss=0.0385] \n",
      "epoch 18/20 train: 100%|██████████| 938/938 [00:11<00:00, 81.94it/s, loss=0.0382] \n",
      "epoch 18/20 val: 100%|██████████| 157/157 [00:09<00:00, 15.82it/s, avg_loss=0.0381]\n",
      "epoch 19/20 train: 100%|██████████| 938/938 [00:11<00:00, 81.21it/s, loss=0.0318] \n",
      "epoch 19/20 val: 100%|██████████| 157/157 [00:03<00:00, 43.32it/s, avg_loss=0.0382] \n",
      "epoch 20/20 train: 100%|██████████| 938/938 [00:11<00:00, 78.26it/s, loss=0.0391] \n",
      "epoch 20/20 val: 100%|██████████| 157/157 [00:03<00:00, 43.83it/s, avg_loss=0.0381] \n"
     ]
    }
   ],
   "source": [
    "train()"
   ]
  },
  {
   "cell_type": "markdown",
   "metadata": {},
   "source": [
    "# 显示"
   ]
  },
  {
   "cell_type": "code",
   "execution_count": 7,
   "metadata": {},
   "outputs": [],
   "source": [
    "def plot_representation(encode_images, y_test):\n",
    "    \"\"\"\n",
    "    plot the hidden result.\n",
    "    :param encode_images: the images after encoding\n",
    "    :param y_test: the label.\n",
    "    :return:\n",
    "    \"\"\"\n",
    "    # test and plot\n",
    "    plt.scatter(encode_images[:, 0], encode_images[:, 1], c=y_test, s=3)\n",
    "    plt.colorbar()\n",
    "    plt.show()"
   ]
  },
  {
   "cell_type": "code",
   "execution_count": 8,
   "metadata": {},
   "outputs": [],
   "source": [
    "def show_images(decode_images, x_test):\n",
    "    \"\"\"\n",
    "    plot the images.\n",
    "    :param decode_images: the images after decoding\n",
    "    :param x_test: testing data\n",
    "    :return:\n",
    "    \"\"\"\n",
    "    n = 10\n",
    "    plt.figure(figsize=(20, 4))\n",
    "    for i in range(n):\n",
    "        ax = plt.subplot(2, n, i+1)\n",
    "        ax.imshow(x_test[i].reshape(28, 28))\n",
    "        plt.gray()\n",
    "        ax.get_xaxis().set_visible(False)\n",
    "        ax.get_yaxis().set_visible(False)\n",
    "\n",
    "        ax = plt.subplot(2, n, i + 1 + n)\n",
    "        ax.imshow(decode_images[i].reshape(28, 28))\n",
    "        plt.gray()\n",
    "        ax.get_xaxis().set_visible(False)\n",
    "        ax.get_yaxis().set_visible(False)\n",
    "    plt.show()"
   ]
  },
  {
   "cell_type": "code",
   "execution_count": 9,
   "metadata": {},
   "outputs": [
    {
     "name": "stdout",
     "output_type": "stream",
     "text": [
      "train images: 60000, val images: 10000\n"
     ]
    }
   ],
   "source": [
    "_, _, _, val_dataloader = minst(batch_size=10)\n",
    "test_images, test_labels = next(iter(val_dataloader))"
   ]
  },
  {
   "cell_type": "code",
   "execution_count": 10,
   "metadata": {},
   "outputs": [
    {
     "data": {
      "text/plain": [
       "<All keys matched successfully>"
      ]
     },
     "execution_count": 10,
     "metadata": {},
     "output_type": "execute_result"
    }
   ],
   "source": [
    "model = StackAutoEncoder()\n",
    "model.load_state_dict(torch.load(SAVE_PATH))"
   ]
  },
  {
   "cell_type": "code",
   "execution_count": 11,
   "metadata": {},
   "outputs": [],
   "source": [
    "model.eval()\n",
    "with torch.inference_mode():\n",
    "    test_images = test_images.flatten(1)\n",
    "    encode_images, decode_images = model(test_images)"
   ]
  },
  {
   "cell_type": "code",
   "execution_count": 12,
   "metadata": {},
   "outputs": [
    {
     "data": {
      "image/png": "[encoded data removed]",
      "text/plain": [
       "<Figure size 640x480 with 2 Axes>"
      ]
     },
     "metadata": {},
     "output_type": "display_data"
    }
   ],
   "source": [
    "plot_representation(encode_images, test_labels)"
   ]
  },
  {
   "cell_type": "code",
   "execution_count": 13,
   "metadata": {},
   "outputs": [
    {
     "data": {
      "image/png": "[encoded data removed]",
      "text/plain": [
       "<Figure size 2000x400 with 20 Axes>"
      ]
     },
     "metadata": {},
     "output_type": "display_data"
    }
   ],
   "source": [
    "show_images(decode_images, test_images)"
   ]
  },
  {
   "cell_type": "code",
   "execution_count": null,
   "metadata": {},
   "outputs": [],
   "source": []
  }
 ],
 "metadata": {
  "kernelspec": {
   "display_name": "pytorch",
   "language": "python",
   "name": "python3"
  },
  "language_info": {
   "codemirror_mode": {
    "name": "ipython",
    "version": 3
   },
   "file_extension": ".py",
   "mimetype": "text/x-python",
   "name": "python",
   "nbconvert_exporter": "python",
   "pygments_lexer": "ipython3",
   "version": "3.9.15"
  },
  "orig_nbformat": 4,
  "vscode": {
   "interpreter": {
    "hash": "6e3a9582807446cfda6e60e7a572d3bab8c423d141a376f0e3f6f7956ef3b5a5"
   }
  }
 },
 "nbformat": 4,
 "nbformat_minor": 2
}
