{
 "cells": [
  {
   "cell_type": "code",
   "execution_count": 19,
   "metadata": {},
   "outputs": [],
   "source": [
    "import numpy as np\n",
    "import torch\n",
    "from torch import nn, Tensor\n",
    "from torch import optim\n",
    "import matplotlib.pyplot as plt\n",
    "from dataset_pre import minst\n",
    "from tqdm import tqdm"
   ]
  },
  {
   "cell_type": "code",
   "execution_count": 2,
   "metadata": {},
   "outputs": [],
   "source": [
    "np.random.seed(33)   # random seed，to reproduce results."
   ]
  },
  {
   "cell_type": "markdown",
   "metadata": {},
   "source": [
    "# 参数"
   ]
  },
  {
   "cell_type": "code",
   "execution_count": 3,
   "metadata": {},
   "outputs": [],
   "source": [
    "ENCODING_DIM_INPUT = 784\n",
    "ENCODING_DIM_OUTPUT = 2\n",
    "EPOCHS = 20\n",
    "BATCH_SIZE = 64\n",
    "SAVE_PATH = \"autoencoder.pth\""
   ]
  },
  {
   "cell_type": "markdown",
   "metadata": {},
   "source": [
    "# model"
   ]
  },
  {
   "cell_type": "code",
   "execution_count": 4,
   "metadata": {},
   "outputs": [],
   "source": [
    "class AutoEncoder(nn.Module):\n",
    "    def __init__(self) -> None:\n",
    "        super().__init__()\n",
    "        self.encoder = nn.Sequential(\n",
    "            nn.Linear(ENCODING_DIM_INPUT, ENCODING_DIM_OUTPUT),\n",
    "            nn.ReLU(),\n",
    "        )\n",
    "        self.decoder = nn.Sequential(\n",
    "            nn.Linear(ENCODING_DIM_OUTPUT, ENCODING_DIM_INPUT),\n",
    "            nn.ReLU(),\n",
    "        )\n",
    "\n",
    "    def forward(self, x: Tensor) -> tuple[Tensor, Tensor]:\n",
    "        x = self.encoder(x) # [B, 784] -> [B, 2]\n",
    "        y = self.decoder(x) # [B, 2] -> [B, 784]\n",
    "        return x, y"
   ]
  },
  {
   "cell_type": "markdown",
   "metadata": {},
   "source": [
    "# train"
   ]
  },
  {
   "cell_type": "code",
   "execution_count": null,
   "metadata": {},
   "outputs": [],
   "source": [
    "torch.cuda.is_available()"
   ]
  },
  {
   "cell_type": "code",
   "execution_count": 5,
   "metadata": {},
   "outputs": [],
   "source": [
    "\n",
    "def train():\n",
    "    device = torch.device(\"cuda\") if torch.cuda.is_available() else torch.device(\"cpu\")\n",
    "    model = AutoEncoder().to(device)\n",
    "    optimizer = optim.Adam(model.parameters(), lr=0.001)\n",
    "    loss_fn = nn.MSELoss()\n",
    "\n",
    "    _, _, train_dataloader, val_dataloader = minst(batch_size=64)\n",
    "\n",
    "    # 初始loss设置为最大值\n",
    "    MIN_LOSS = np.Inf\n",
    "\n",
    "    for epoch in range(EPOCHS):\n",
    "        # train\n",
    "        pbar = tqdm(total=len(train_dataloader), desc=f\"epoch {epoch+1}/{EPOCHS} train\")\n",
    "        model.train()\n",
    "        for images, label in train_dataloader:\n",
    "            images = images.flatten(1)  # [B, C, H, W] -> [B, C*H*W]\n",
    "            images = images.to(device)\n",
    "\n",
    "            # forward\n",
    "            _, images_encoder = model(images)\n",
    "\n",
    "            loss = loss_fn(images, images_encoder)\n",
    "\n",
    "            optimizer.zero_grad()\n",
    "            loss.backward()\n",
    "            optimizer.step()\n",
    "\n",
    "            pbar.update(1)\n",
    "            pbar.set_postfix(**{\"loss\": loss.item()})\n",
    "        pbar.close()\n",
    "\n",
    "        # val\n",
    "        pbar = tqdm(total=len(val_dataloader), desc=f\"epoch {epoch+1}/{EPOCHS} val\")\n",
    "        model.eval()\n",
    "        losssum = 0\n",
    "        for images, label in val_dataloader:\n",
    "            images = images.flatten(1)  # [B, C, H, W] -> [B, C*H*W]\n",
    "            images = images.to(device)\n",
    "\n",
    "            # forward\n",
    "            with torch.inference_mode():\n",
    "                _, images_encoder = model(images)\n",
    "\n",
    "            loss = loss_fn(images, images_encoder)\n",
    "            losssum += loss.item()\n",
    "\n",
    "            pbar.update(1)\n",
    "            pbar.set_postfix(**{\"loss\": loss.item()})\n",
    "        var_loss_avg = losssum / len(val_dataloader)\n",
    "        pbar.set_postfix(**{\"avg_loss\": var_loss_avg})\n",
    "        pbar.close()\n",
    "\n",
    "        # 保存权重\n",
    "        if MIN_LOSS > var_loss_avg:\n",
    "            MIN_LOSS = var_loss_avg\n",
    "            torch.save(model.state_dict(), SAVE_PATH)"
   ]
  },
  {
   "cell_type": "code",
   "execution_count": 6,
   "metadata": {},
   "outputs": [
    {
     "name": "stdout",
     "output_type": "stream",
     "text": [
      "train images: 60000, val images: 157\n"
     ]
    },
    {
     "name": "stderr",
     "output_type": "stream",
     "text": [
      "epoch 1/20 train: 100%|██████████| 938/938 [00:06<00:00, 140.05it/s, loss=0.0764]\n",
      "epoch 1/20 val: 100%|██████████| 157/157 [00:03<00:00, 46.56it/s, val_loss=0.0941] \n",
      "epoch 2/20 train: 100%|██████████| 938/938 [00:07<00:00, 131.10it/s, loss=0.0774]\n",
      "epoch 2/20 val: 100%|██████████| 157/157 [00:03<00:00, 48.74it/s, val_loss=0.0908] \n",
      "epoch 3/20 train: 100%|██████████| 938/938 [00:07<00:00, 124.82it/s, loss=0.0752]\n",
      "epoch 3/20 val: 100%|██████████| 157/157 [00:03<00:00, 44.33it/s, val_loss=0.0894] \n",
      "epoch 4/20 train: 100%|██████████| 938/938 [00:06<00:00, 134.43it/s, loss=0.0772]\n",
      "epoch 4/20 val: 100%|██████████| 157/157 [00:03<00:00, 48.19it/s, val_loss=0.0875] \n",
      "epoch 5/20 train: 100%|██████████| 938/938 [00:06<00:00, 140.86it/s, loss=0.0784]\n",
      "epoch 5/20 val: 100%|██████████| 157/157 [00:03<00:00, 47.83it/s, val_loss=0.087]  \n",
      "epoch 6/20 train: 100%|██████████| 938/938 [00:06<00:00, 141.04it/s, loss=0.0666]\n",
      "epoch 6/20 val: 100%|██████████| 157/157 [00:04<00:00, 38.51it/s, val_loss=0.0863]\n",
      "epoch 7/20 train: 100%|██████████| 938/938 [00:08<00:00, 111.77it/s, loss=0.0781]\n",
      "epoch 7/20 val: 100%|██████████| 157/157 [00:03<00:00, 41.39it/s, val_loss=0.0859] \n",
      "epoch 8/20 train: 100%|██████████| 938/938 [00:07<00:00, 128.09it/s, loss=0.0748]\n",
      "epoch 8/20 val: 100%|██████████| 157/157 [00:03<00:00, 44.76it/s, val_loss=0.0858] \n",
      "epoch 9/20 train: 100%|██████████| 938/938 [00:06<00:00, 137.61it/s, loss=0.0715]\n",
      "epoch 9/20 val: 100%|██████████| 157/157 [00:03<00:00, 46.49it/s, val_loss=0.0856] \n",
      "epoch 10/20 train: 100%|██████████| 938/938 [00:06<00:00, 137.42it/s, loss=0.0669]\n",
      "epoch 10/20 val: 100%|██████████| 157/157 [00:03<00:00, 47.42it/s, val_loss=0.0855] \n",
      "epoch 11/20 train: 100%|██████████| 938/938 [00:07<00:00, 126.40it/s, loss=0.0776]\n",
      "epoch 11/20 val: 100%|██████████| 157/157 [00:03<00:00, 46.00it/s, val_loss=0.0854] \n",
      "epoch 12/20 train: 100%|██████████| 938/938 [00:07<00:00, 130.41it/s, loss=0.0696]\n",
      "epoch 12/20 val: 100%|██████████| 157/157 [00:03<00:00, 46.67it/s, val_loss=0.0854] \n",
      "epoch 13/20 train: 100%|██████████| 938/938 [00:06<00:00, 134.36it/s, loss=0.07]  \n",
      "epoch 13/20 val: 100%|██████████| 157/157 [00:03<00:00, 46.66it/s, val_loss=0.0856] \n",
      "epoch 14/20 train: 100%|██████████| 938/938 [00:06<00:00, 143.47it/s, loss=0.077] \n",
      "epoch 14/20 val: 100%|██████████| 157/157 [00:03<00:00, 46.52it/s, val_loss=0.0849] \n",
      "epoch 15/20 train: 100%|██████████| 938/938 [00:07<00:00, 126.03it/s, loss=0.07]  \n",
      "epoch 15/20 val: 100%|██████████| 157/157 [00:03<00:00, 49.47it/s, val_loss=0.0849] \n",
      "epoch 16/20 train: 100%|██████████| 938/938 [00:06<00:00, 137.35it/s, loss=0.0757]\n",
      "epoch 16/20 val: 100%|██████████| 157/157 [00:03<00:00, 49.04it/s, val_loss=0.0848]\n",
      "epoch 17/20 train: 100%|██████████| 938/938 [00:06<00:00, 137.30it/s, loss=0.0726]\n",
      "epoch 17/20 val: 100%|██████████| 157/157 [00:08<00:00, 18.94it/s, val_loss=0.085]  \n",
      "epoch 18/20 train: 100%|██████████| 938/938 [00:07<00:00, 130.47it/s, loss=0.0808]\n",
      "epoch 18/20 val: 100%|██████████| 157/157 [00:03<00:00, 45.78it/s, val_loss=0.085]  \n",
      "epoch 19/20 train: 100%|██████████| 938/938 [00:07<00:00, 133.68it/s, loss=0.0693]\n",
      "epoch 19/20 val: 100%|██████████| 157/157 [00:03<00:00, 46.92it/s, val_loss=0.0848] \n",
      "epoch 20/20 train: 100%|██████████| 938/938 [00:06<00:00, 139.09it/s, loss=0.0724]\n",
      "epoch 20/20 val: 100%|██████████| 157/157 [00:03<00:00, 47.53it/s, val_loss=0.0849] \n"
     ]
    }
   ],
   "source": [
    "train()"
   ]
  },
  {
   "cell_type": "markdown",
   "metadata": {},
   "source": [
    "# 显示"
   ]
  },
  {
   "cell_type": "code",
   "execution_count": 26,
   "metadata": {},
   "outputs": [],
   "source": [
    "def plot_representation(encode_images, y_test):\n",
    "    \"\"\"\n",
    "    plot the hidden result.\n",
    "    :param encode_images: the images after encoding\n",
    "    :param y_test: the label.\n",
    "    :return:\n",
    "    \"\"\"\n",
    "    # test and plot\n",
    "    plt.scatter(encode_images[:, 0], encode_images[:, 1], c=y_test, s=3)\n",
    "    plt.colorbar()\n",
    "    plt.show()"
   ]
  },
  {
   "cell_type": "code",
   "execution_count": 21,
   "metadata": {},
   "outputs": [],
   "source": [
    "def show_images(decode_images, x_test):\n",
    "    \"\"\"\n",
    "    plot the images.\n",
    "    :param decode_images: the images after decoding\n",
    "    :param x_test: testing data\n",
    "    :return:\n",
    "    \"\"\"\n",
    "    n = 10\n",
    "    plt.figure(figsize=(20, 4))\n",
    "    for i in range(n):\n",
    "        ax = plt.subplot(2, n, i+1)\n",
    "        ax.imshow(x_test[i].reshape(28, 28))\n",
    "        plt.gray()\n",
    "        ax.get_xaxis().set_visible(False)\n",
    "        ax.get_yaxis().set_visible(False)\n",
    "\n",
    "        ax = plt.subplot(2, n, i + 1 + n)\n",
    "        ax.imshow(decode_images[i].reshape(28, 28))\n",
    "        plt.gray()\n",
    "        ax.get_xaxis().set_visible(False)\n",
    "        ax.get_yaxis().set_visible(False)\n",
    "    plt.show()"
   ]
  },
  {
   "cell_type": "code",
   "execution_count": 22,
   "metadata": {},
   "outputs": [
    {
     "name": "stdout",
     "output_type": "stream",
     "text": [
      "train images: 60000, val images: 1000\n"
     ]
    }
   ],
   "source": [
    "_, _, _, val_dataloader = minst(batch_size=10)\n",
    "test_images, test_labels = next(iter(val_dataloader))"
   ]
  },
  {
   "cell_type": "code",
   "execution_count": 10,
   "metadata": {},
   "outputs": [
    {
     "data": {
      "text/plain": [
       "<All keys matched successfully>"
      ]
     },
     "execution_count": 10,
     "metadata": {},
     "output_type": "execute_result"
    }
   ],
   "source": [
    "model = AutoEncoder()\n",
    "model.load_state_dict(torch.load(SAVE_PATH))"
   ]
  },
  {
   "cell_type": "code",
   "execution_count": 17,
   "metadata": {},
   "outputs": [],
   "source": [
    "model.eval()\n",
    "with torch.inference_mode():\n",
    "    test_images = test_images.flatten(1)\n",
    "    encode_images, decode_images = model(test_images)"
   ]
  },
  {
   "cell_type": "code",
   "execution_count": 31,
   "metadata": {},
   "outputs": [
    {
     "name": "stdout",
     "output_type": "stream",
     "text": [
      "tensor([[0.9872, 0.0000],\n",
      "        [0.9442, 0.0000],\n",
      "        [0.1066, 0.0000],\n",
      "        [1.9107, 0.0000],\n",
      "        [1.3663, 0.0000],\n",
      "        [0.0206, 0.0000],\n",
      "        [1.0060, 0.0000],\n",
      "        [0.8528, 0.0000],\n",
      "        [1.2350, 0.0000],\n",
      "        [1.2814, 0.0000]])\n"
     ]
    },
    {
     "data": {
      "image/png": "[encoded data removed]",
      "text/plain": [
       "<Figure size 640x480 with 2 Axes>"
      ]
     },
     "metadata": {},
     "output_type": "display_data"
    }
   ],
   "source": [
    "plot_representation(encode_images, test_labels)"
   ]
  },
  {
   "cell_type": "code",
   "execution_count": 32,
   "metadata": {},
   "outputs": [
    {
     "data": {
      "image/png": "[encoded data removed]",
      "text/plain": [
       "<Figure size 2000x400 with 20 Axes>"
      ]
     },
     "metadata": {},
     "output_type": "display_data"
    }
   ],
   "source": [
    "show_images(decode_images, test_images)"
   ]
  },
  {
   "cell_type": "code",
   "execution_count": null,
   "metadata": {},
   "outputs": [],
   "source": []
  }
 ],
 "metadata": {
  "kernelspec": {
   "display_name": "pytorch",
   "language": "python",
   "name": "python3"
  },
  "language_info": {
   "codemirror_mode": {
    "name": "ipython",
    "version": 3
   },
   "file_extension": ".py",
   "mimetype": "text/x-python",
   "name": "python",
   "nbconvert_exporter": "python",
   "pygments_lexer": "ipython3",
   "version": "3.9.15"
  },
  "orig_nbformat": 4,
  "vscode": {
   "interpreter": {
    "hash": "6e3a9582807446cfda6e60e7a572d3bab8c423d141a376f0e3f6f7956ef3b5a5"
   }
  }
 },
 "nbformat": 4,
 "nbformat_minor": 2
}
