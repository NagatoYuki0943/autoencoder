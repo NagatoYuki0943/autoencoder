{
 "cells": [
  {
   "cell_type": "code",
   "execution_count": 23,
   "metadata": {},
   "outputs": [],
   "source": [
    "import numpy as np\n",
    "import torch\n",
    "from torch import nn, Tensor\n",
    "from torch import optim\n",
    "import matplotlib.pyplot as plt\n",
    "from dataset_pre import minst\n",
    "from tqdm import tqdm"
   ]
  },
  {
   "cell_type": "code",
   "execution_count": 24,
   "metadata": {},
   "outputs": [],
   "source": [
    "np.random.seed(33)   # random seed，to reproduce results."
   ]
  },
  {
   "cell_type": "markdown",
   "metadata": {},
   "source": [
    "# 参数"
   ]
  },
  {
   "cell_type": "code",
   "execution_count": 25,
   "metadata": {},
   "outputs": [],
   "source": [
    "ENCODING_DIM_INPUT = 784\n",
    "ENCODING_DIM_OUTPUT = 5 # 2 -> 5\n",
    "EPOCHS = 20\n",
    "BATCH_SIZE = 64\n",
    "SAVE_PATH = \"autoencoder.pth\""
   ]
  },
  {
   "cell_type": "markdown",
   "metadata": {},
   "source": [
    "# model"
   ]
  },
  {
   "cell_type": "code",
   "execution_count": 26,
   "metadata": {},
   "outputs": [],
   "source": [
    "class AutoEncoder(nn.Module):\n",
    "    def __init__(self) -> None:\n",
    "        super().__init__()\n",
    "        self.encoder = nn.Sequential(\n",
    "            nn.Linear(ENCODING_DIM_INPUT, ENCODING_DIM_OUTPUT),\n",
    "            nn.ReLU(),\n",
    "        )\n",
    "        self.decoder = nn.Sequential(\n",
    "            nn.Linear(ENCODING_DIM_OUTPUT, ENCODING_DIM_INPUT),\n",
    "            nn.Sigmoid(),   # nn.ReLU(),\n",
    "        )\n",
    "\n",
    "    def forward(self, x: Tensor) -> tuple[Tensor, Tensor]:\n",
    "        x = self.encoder(x) # [B, 784] -> [B, 2]\n",
    "        y = self.decoder(x) # [B, 2] -> [B, 784]\n",
    "        return x, y"
   ]
  },
  {
   "cell_type": "markdown",
   "metadata": {},
   "source": [
    "# train"
   ]
  },
  {
   "cell_type": "code",
   "execution_count": 27,
   "metadata": {},
   "outputs": [
    {
     "data": {
      "text/plain": [
       "True"
      ]
     },
     "execution_count": 27,
     "metadata": {},
     "output_type": "execute_result"
    }
   ],
   "source": [
    "torch.cuda.is_available()"
   ]
  },
  {
   "cell_type": "code",
   "execution_count": 28,
   "metadata": {},
   "outputs": [],
   "source": [
    "\n",
    "def train():\n",
    "    device = torch.device(\"cuda\") if torch.cuda.is_available() else torch.device(\"cpu\")\n",
    "    print(device)\n",
    "    model = AutoEncoder().to(device)\n",
    "    optimizer = optim.Adam(model.parameters(), lr=0.001)\n",
    "    loss_fn = nn.MSELoss()\n",
    "\n",
    "    _, _, train_dataloader, val_dataloader = minst(batch_size=64)\n",
    "\n",
    "    # 初始loss设置为最大值\n",
    "    MIN_LOSS = np.Inf\n",
    "\n",
    "    for epoch in range(EPOCHS):\n",
    "        # train\n",
    "        pbar = tqdm(total=len(train_dataloader), desc=f\"epoch {epoch+1}/{EPOCHS} train\")\n",
    "        model.train()\n",
    "        for images, label in train_dataloader:\n",
    "            images = images.flatten(1)  # [B, C, H, W] -> [B, C*H*W]\n",
    "            images = images.to(device)\n",
    "\n",
    "            # forward\n",
    "            _, images_encoder = model(images)\n",
    "\n",
    "            loss = loss_fn(images, images_encoder)\n",
    "\n",
    "            optimizer.zero_grad()\n",
    "            loss.backward()\n",
    "            optimizer.step()\n",
    "\n",
    "            pbar.update(1)\n",
    "            pbar.set_postfix(**{\"loss\": loss.item()})\n",
    "        pbar.close()\n",
    "\n",
    "        # val\n",
    "        pbar = tqdm(total=len(val_dataloader), desc=f\"epoch {epoch+1}/{EPOCHS} val\")\n",
    "        model.eval()\n",
    "        losssum = 0\n",
    "        for images, label in val_dataloader:\n",
    "            images = images.flatten(1)  # [B, C, H, W] -> [B, C*H*W]\n",
    "            images = images.to(device)\n",
    "\n",
    "            # forward\n",
    "            with torch.inference_mode():\n",
    "                _, images_encoder = model(images)\n",
    "\n",
    "            loss = loss_fn(images, images_encoder)\n",
    "            losssum += loss.item()\n",
    "\n",
    "            pbar.update(1)\n",
    "            pbar.set_postfix(**{\"loss\": loss.item()})\n",
    "        var_loss_avg = losssum / len(val_dataloader)\n",
    "        pbar.set_postfix(**{\"avg_loss\": var_loss_avg})\n",
    "        pbar.close()\n",
    "\n",
    "        # 保存权重\n",
    "        if MIN_LOSS > var_loss_avg:\n",
    "            MIN_LOSS = var_loss_avg\n",
    "            torch.save(model.state_dict(), SAVE_PATH)"
   ]
  },
  {
   "cell_type": "code",
   "execution_count": 29,
   "metadata": {},
   "outputs": [
    {
     "name": "stdout",
     "output_type": "stream",
     "text": [
      "cuda\n",
      "train images: 60000, val images: 10000\n"
     ]
    },
    {
     "name": "stderr",
     "output_type": "stream",
     "text": [
      "epoch 1/20 train: 100%|██████████| 938/938 [00:06<00:00, 142.10it/s, loss=0.0705]\n",
      "epoch 1/20 val: 100%|██████████| 157/157 [00:03<00:00, 47.33it/s, avg_loss=0.0769] \n",
      "epoch 2/20 train: 100%|██████████| 938/938 [00:06<00:00, 149.65it/s, loss=0.0716]\n",
      "epoch 2/20 val: 100%|██████████| 157/157 [00:03<00:00, 50.97it/s, avg_loss=0.0753] \n",
      "epoch 3/20 train: 100%|██████████| 938/938 [00:06<00:00, 149.15it/s, loss=0.074] \n",
      "epoch 3/20 val: 100%|██████████| 157/157 [00:03<00:00, 49.91it/s, avg_loss=0.0749] \n",
      "epoch 4/20 train: 100%|██████████| 938/938 [00:06<00:00, 135.55it/s, loss=0.0812]\n",
      "epoch 4/20 val: 100%|██████████| 157/157 [00:03<00:00, 46.65it/s, avg_loss=0.0738] \n",
      "epoch 5/20 train: 100%|██████████| 938/938 [00:06<00:00, 146.35it/s, loss=0.0682]\n",
      "epoch 5/20 val: 100%|██████████| 157/157 [00:03<00:00, 47.63it/s, avg_loss=0.0689] \n",
      "epoch 6/20 train: 100%|██████████| 938/938 [00:06<00:00, 144.66it/s, loss=0.0657]\n",
      "epoch 6/20 val: 100%|██████████| 157/157 [00:03<00:00, 48.86it/s, avg_loss=0.0684]\n",
      "epoch 7/20 train: 100%|██████████| 938/938 [00:06<00:00, 147.83it/s, loss=0.0717]\n",
      "epoch 7/20 val: 100%|██████████| 157/157 [00:03<00:00, 47.90it/s, avg_loss=0.0683]\n",
      "epoch 8/20 train: 100%|██████████| 938/938 [00:06<00:00, 145.61it/s, loss=0.0708]\n",
      "epoch 8/20 val: 100%|██████████| 157/157 [00:03<00:00, 43.47it/s, avg_loss=0.0682] \n",
      "epoch 9/20 train: 100%|██████████| 938/938 [00:06<00:00, 148.78it/s, loss=0.0699]\n",
      "epoch 9/20 val: 100%|██████████| 157/157 [00:03<00:00, 47.27it/s, avg_loss=0.0682] \n",
      "epoch 10/20 train: 100%|██████████| 938/938 [00:06<00:00, 149.19it/s, loss=0.0636]\n",
      "epoch 10/20 val: 100%|██████████| 157/157 [00:06<00:00, 23.15it/s, avg_loss=0.0682]\n",
      "epoch 11/20 train: 100%|██████████| 938/938 [00:09<00:00, 100.79it/s, loss=0.064] \n",
      "epoch 11/20 val: 100%|██████████| 157/157 [00:03<00:00, 41.13it/s, avg_loss=0.0681]\n",
      "epoch 12/20 train: 100%|██████████| 938/938 [00:06<00:00, 148.78it/s, loss=0.0656]\n",
      "epoch 12/20 val: 100%|██████████| 157/157 [00:03<00:00, 46.17it/s, avg_loss=0.0682] \n",
      "epoch 13/20 train: 100%|██████████| 938/938 [00:06<00:00, 146.28it/s, loss=0.0649]\n",
      "epoch 13/20 val: 100%|██████████| 157/157 [00:03<00:00, 48.62it/s, avg_loss=0.0681] \n",
      "epoch 14/20 train: 100%|██████████| 938/938 [00:06<00:00, 147.42it/s, loss=0.0603]\n",
      "epoch 14/20 val: 100%|██████████| 157/157 [00:03<00:00, 48.28it/s, avg_loss=0.068] \n",
      "epoch 15/20 train: 100%|██████████| 938/938 [00:06<00:00, 148.07it/s, loss=0.0703]\n",
      "epoch 15/20 val: 100%|██████████| 157/157 [00:03<00:00, 45.09it/s, avg_loss=0.0679] \n",
      "epoch 16/20 train: 100%|██████████| 938/938 [00:06<00:00, 147.11it/s, loss=0.0598]\n",
      "epoch 16/20 val: 100%|██████████| 157/157 [00:03<00:00, 47.43it/s, avg_loss=0.068]\n",
      "epoch 17/20 train: 100%|██████████| 938/938 [00:06<00:00, 150.60it/s, loss=0.0675]\n",
      "epoch 17/20 val: 100%|██████████| 157/157 [00:03<00:00, 45.84it/s, avg_loss=0.0679] \n",
      "epoch 18/20 train: 100%|██████████| 938/938 [00:06<00:00, 149.76it/s, loss=0.0612]\n",
      "epoch 18/20 val: 100%|██████████| 157/157 [00:03<00:00, 46.20it/s, avg_loss=0.0679] \n",
      "epoch 19/20 train: 100%|██████████| 938/938 [00:06<00:00, 151.46it/s, loss=0.067] \n",
      "epoch 19/20 val: 100%|██████████| 157/157 [00:03<00:00, 46.19it/s, avg_loss=0.0679] \n",
      "epoch 20/20 train: 100%|██████████| 938/938 [00:06<00:00, 149.20it/s, loss=0.0699]\n",
      "epoch 20/20 val: 100%|██████████| 157/157 [00:03<00:00, 46.25it/s, avg_loss=0.0677] \n"
     ]
    }
   ],
   "source": [
    "train()"
   ]
  },
  {
   "cell_type": "markdown",
   "metadata": {},
   "source": [
    "# 显示"
   ]
  },
  {
   "cell_type": "code",
   "execution_count": 30,
   "metadata": {},
   "outputs": [],
   "source": [
    "def plot_representation(encode_images, y_test):\n",
    "    \"\"\"\n",
    "    plot the hidden result.\n",
    "    :param encode_images: the images after encoding\n",
    "    :param y_test: the label.\n",
    "    :return:\n",
    "    \"\"\"\n",
    "    # test and plot\n",
    "    plt.scatter(encode_images[:, 0], encode_images[:, 1], c=y_test, s=3)\n",
    "    plt.colorbar()\n",
    "    plt.show()"
   ]
  },
  {
   "cell_type": "code",
   "execution_count": 31,
   "metadata": {},
   "outputs": [],
   "source": [
    "def show_images(decode_images, x_test):\n",
    "    \"\"\"\n",
    "    plot the images.\n",
    "    :param decode_images: the images after decoding\n",
    "    :param x_test: testing data\n",
    "    :return:\n",
    "    \"\"\"\n",
    "    n = 10\n",
    "    plt.figure(figsize=(20, 4))\n",
    "    for i in range(n):\n",
    "        ax = plt.subplot(2, n, i+1)\n",
    "        ax.imshow(x_test[i].reshape(28, 28))\n",
    "        plt.gray()\n",
    "        ax.get_xaxis().set_visible(False)\n",
    "        ax.get_yaxis().set_visible(False)\n",
    "\n",
    "        ax = plt.subplot(2, n, i + 1 + n)\n",
    "        ax.imshow(decode_images[i].reshape(28, 28))\n",
    "        plt.gray()\n",
    "        ax.get_xaxis().set_visible(False)\n",
    "        ax.get_yaxis().set_visible(False)\n",
    "    plt.show()"
   ]
  },
  {
   "cell_type": "code",
   "execution_count": 32,
   "metadata": {},
   "outputs": [
    {
     "name": "stdout",
     "output_type": "stream",
     "text": [
      "train images: 60000, val images: 10000\n"
     ]
    }
   ],
   "source": [
    "_, _, _, val_dataloader = minst(batch_size=10)\n",
    "test_images, test_labels = next(iter(val_dataloader))"
   ]
  },
  {
   "cell_type": "code",
   "execution_count": 33,
   "metadata": {},
   "outputs": [
    {
     "data": {
      "text/plain": [
       "<All keys matched successfully>"
      ]
     },
     "execution_count": 33,
     "metadata": {},
     "output_type": "execute_result"
    }
   ],
   "source": [
    "model = AutoEncoder()\n",
    "model.load_state_dict(torch.load(SAVE_PATH))"
   ]
  },
  {
   "cell_type": "code",
   "execution_count": 34,
   "metadata": {},
   "outputs": [],
   "source": [
    "model.eval()\n",
    "with torch.inference_mode():\n",
    "    test_images = test_images.flatten(1)\n",
    "    encode_images, decode_images = model(test_images)"
   ]
  },
  {
   "cell_type": "code",
   "execution_count": 35,
   "metadata": {},
   "outputs": [
    {
     "data": {
      "image/png": "[encoded data removed]",
      "text/plain": [
       "<Figure size 640x480 with 2 Axes>"
      ]
     },
     "metadata": {},
     "output_type": "display_data"
    }
   ],
   "source": [
    "plot_representation(encode_images, test_labels)"
   ]
  },
  {
   "cell_type": "code",
   "execution_count": 36,
   "metadata": {},
   "outputs": [
    {
     "data": {
      "image/png": "[encoded data removed]",
      "text/plain": [
       "<Figure size 2000x400 with 20 Axes>"
      ]
     },
     "metadata": {},
     "output_type": "display_data"
    }
   ],
   "source": [
    "show_images(decode_images, test_images)"
   ]
  }
 ],
 "metadata": {
  "kernelspec": {
   "display_name": "pytorch",
   "language": "python",
   "name": "python3"
  },
  "language_info": {
   "codemirror_mode": {
    "name": "ipython",
    "version": 3
   },
   "file_extension": ".py",
   "mimetype": "text/x-python",
   "name": "python",
   "nbconvert_exporter": "python",
   "pygments_lexer": "ipython3",
   "version": "3.9.15"
  },
  "orig_nbformat": 4,
  "vscode": {
   "interpreter": {
    "hash": "6e3a9582807446cfda6e60e7a572d3bab8c423d141a376f0e3f6f7956ef3b5a5"
   }
  }
 },
 "nbformat": 4,
 "nbformat_minor": 2
}
