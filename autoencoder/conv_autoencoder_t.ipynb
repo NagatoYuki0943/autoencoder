{
 "cells": [
  {
   "cell_type": "code",
   "execution_count": 1,
   "metadata": {},
   "outputs": [],
   "source": [
    "import numpy as np\n",
    "import torch\n",
    "from torch import nn, Tensor\n",
    "from torch import optim\n",
    "import matplotlib.pyplot as plt\n",
    "from dataset_pre import minst\n",
    "from tqdm import tqdm"
   ]
  },
  {
   "cell_type": "code",
   "execution_count": 2,
   "metadata": {},
   "outputs": [],
   "source": [
    "np.random.seed(33)   # random seed，to reproduce results."
   ]
  },
  {
   "cell_type": "markdown",
   "metadata": {},
   "source": [
    "# 参数"
   ]
  },
  {
   "cell_type": "code",
   "execution_count": 3,
   "metadata": {},
   "outputs": [],
   "source": [
    "CHANNEL_INPUT = 1\n",
    "CHANNEL_1 = 16\n",
    "CHANNEL_2 = 8\n",
    "CHANNEL_OUTPUT = 1\n",
    "EPOCHS = 20\n",
    "BATCH_SIZE = 64\n",
    "SAVE_PATH = \"convautoencoder.pth\""
   ]
  },
  {
   "cell_type": "markdown",
   "metadata": {},
   "source": [
    "# model"
   ]
  },
  {
   "cell_type": "code",
   "execution_count": 20,
   "metadata": {},
   "outputs": [],
   "source": [
    "class ConvAutoEncoder(nn.Module):\n",
    "    def __init__(self) -> None:\n",
    "        super().__init__()\n",
    "        self.encoder = nn.Sequential(\n",
    "            nn.Conv2d(CHANNEL_INPUT, CHANNEL_1, 3, padding=1),\n",
    "            nn.ReLU(),\n",
    "            nn.MaxPool2d(2),\n",
    "            nn.Conv2d(CHANNEL_1, CHANNEL_2, 3, padding=1),\n",
    "            nn.ReLU(),\n",
    "            nn.MaxPool2d(2),\n",
    "        )\n",
    "        self.decoder = nn.Sequential(\n",
    "            nn.Conv2d(CHANNEL_2, CHANNEL_2, 3, padding=1),\n",
    "            nn.ReLU(),\n",
    "            nn.Upsample(scale_factor=2),\n",
    "            nn.Conv2d(CHANNEL_2, CHANNEL_1, 3, padding=1),\n",
    "            nn.ReLU(),\n",
    "            nn.Upsample(scale_factor=2),\n",
    "            nn.Conv2d(CHANNEL_1, CHANNEL_OUTPUT, 3, padding=1),\n",
    "            # nn.Sigmoid(), # 加了sigmoid显示不出来\n",
    "        )\n",
    "\n",
    "    def forward(self, x: Tensor) -> tuple[Tensor, Tensor]:\n",
    "        x = self.encoder(x) # [B, 1, 28, 28] -> [B, 8, 7, 7]\n",
    "        y = self.decoder(x) # [B, 8, 7, 7] -> [B, 1, 28, 28]\n",
    "        return x, y"
   ]
  },
  {
   "cell_type": "markdown",
   "metadata": {},
   "source": [
    "# train"
   ]
  },
  {
   "cell_type": "code",
   "execution_count": 21,
   "metadata": {},
   "outputs": [
    {
     "data": {
      "text/plain": [
       "True"
      ]
     },
     "execution_count": 21,
     "metadata": {},
     "output_type": "execute_result"
    }
   ],
   "source": [
    "torch.cuda.is_available()"
   ]
  },
  {
   "cell_type": "code",
   "execution_count": 22,
   "metadata": {},
   "outputs": [],
   "source": [
    "def train():\n",
    "    device = torch.device(\"cuda\") if torch.cuda.is_available() else torch.device(\"cpu\")\n",
    "    model = ConvAutoEncoder().to(device)\n",
    "    optimizer = optim.Adam(model.parameters(), lr=0.001)\n",
    "    loss_fn = nn.MSELoss()\n",
    "\n",
    "    _, _, train_dataloader, val_dataloader = minst(batch_size=64)\n",
    "\n",
    "    # 初始loss设置为最大值\n",
    "    MIN_LOSS = np.Inf\n",
    "\n",
    "    for epoch in range(EPOCHS):\n",
    "        # train\n",
    "        pbar = tqdm(total=len(train_dataloader), desc=f\"epoch {epoch+1}/{EPOCHS} train\")\n",
    "        model.train()\n",
    "        for images, label in train_dataloader:\n",
    "            # images = images.flatten(1)  # [B, C, H, W] -> [B, C*H*W]\n",
    "            images = images.to(device)\n",
    "\n",
    "            # forward\n",
    "            _, images_encoder = model(images)\n",
    "\n",
    "            loss = loss_fn(images, images_encoder)\n",
    "\n",
    "            optimizer.zero_grad()\n",
    "            loss.backward()\n",
    "            optimizer.step()\n",
    "\n",
    "            pbar.update(1)\n",
    "            pbar.set_postfix(**{\"loss\": loss.item()})\n",
    "        pbar.close()\n",
    "\n",
    "        # val\n",
    "        pbar = tqdm(total=len(val_dataloader), desc=f\"epoch {epoch+1}/{EPOCHS} val\")\n",
    "        model.eval()\n",
    "        losssum = 0\n",
    "        for images, label in val_dataloader:\n",
    "            # images = images.flatten(1)  # [B, C, H, W] -> [B, C*H*W]\n",
    "            images = images.to(device)\n",
    "\n",
    "            # forward\n",
    "            with torch.inference_mode():\n",
    "                _, images_encoder = model(images)\n",
    "\n",
    "            loss = loss_fn(images, images_encoder)\n",
    "            losssum += loss.item()\n",
    "\n",
    "            pbar.update(1)\n",
    "            pbar.set_postfix(**{\"loss\": loss.item()})\n",
    "        var_loss_avg = losssum / len(val_dataloader)\n",
    "        pbar.set_postfix(**{\"avg_loss\": var_loss_avg})\n",
    "        pbar.close()\n",
    "\n",
    "        # 保存权重\n",
    "        if MIN_LOSS > var_loss_avg:\n",
    "            MIN_LOSS = var_loss_avg\n",
    "            torch.save(model.state_dict(), SAVE_PATH)"
   ]
  },
  {
   "cell_type": "code",
   "execution_count": 23,
   "metadata": {},
   "outputs": [
    {
     "name": "stdout",
     "output_type": "stream",
     "text": [
      "train images: 60000, val images: 10000\n"
     ]
    },
    {
     "name": "stderr",
     "output_type": "stream",
     "text": [
      "epoch 1/20 train: 100%|██████████| 938/938 [00:08<00:00, 109.38it/s, loss=0.00852]\n",
      "epoch 1/20 val: 100%|██████████| 157/157 [00:03<00:00, 47.61it/s, avg_loss=0.00878] \n",
      "epoch 2/20 train: 100%|██████████| 938/938 [00:08<00:00, 108.70it/s, loss=0.00715]\n",
      "epoch 2/20 val: 100%|██████████| 157/157 [00:03<00:00, 48.54it/s, avg_loss=0.0071] \n",
      "epoch 3/20 train: 100%|██████████| 938/938 [00:08<00:00, 115.65it/s, loss=0.00639]\n",
      "epoch 3/20 val: 100%|██████████| 157/157 [00:03<00:00, 47.28it/s, avg_loss=0.00632] \n",
      "epoch 4/20 train: 100%|██████████| 938/938 [00:08<00:00, 114.56it/s, loss=0.00591]\n",
      "epoch 4/20 val: 100%|██████████| 157/157 [00:03<00:00, 48.17it/s, avg_loss=0.00578] \n",
      "epoch 5/20 train: 100%|██████████| 938/938 [00:08<00:00, 111.51it/s, loss=0.00559]\n",
      "epoch 5/20 val: 100%|██████████| 157/157 [00:03<00:00, 47.88it/s, avg_loss=0.00556] \n",
      "epoch 6/20 train: 100%|██████████| 938/938 [00:08<00:00, 113.42it/s, loss=0.00514]\n",
      "epoch 6/20 val: 100%|██████████| 157/157 [00:03<00:00, 49.06it/s, avg_loss=0.0052] \n",
      "epoch 7/20 train: 100%|██████████| 938/938 [00:08<00:00, 110.56it/s, loss=0.00524]\n",
      "epoch 7/20 val: 100%|██████████| 157/157 [00:03<00:00, 45.72it/s, avg_loss=0.00501] \n",
      "epoch 8/20 train: 100%|██████████| 938/938 [00:08<00:00, 107.27it/s, loss=0.00491]\n",
      "epoch 8/20 val: 100%|██████████| 157/157 [00:03<00:00, 43.38it/s, avg_loss=0.0049] \n",
      "epoch 9/20 train: 100%|██████████| 938/938 [00:08<00:00, 108.13it/s, loss=0.00534]\n",
      "epoch 9/20 val: 100%|██████████| 157/157 [00:03<00:00, 49.27it/s, avg_loss=0.00494] \n",
      "epoch 10/20 train: 100%|██████████| 938/938 [00:08<00:00, 114.43it/s, loss=0.0045] \n",
      "epoch 10/20 val: 100%|██████████| 157/157 [00:03<00:00, 48.83it/s, avg_loss=0.00465] \n",
      "epoch 11/20 train: 100%|██████████| 938/938 [00:08<00:00, 113.22it/s, loss=0.00523]\n",
      "epoch 11/20 val: 100%|██████████| 157/157 [00:03<00:00, 49.02it/s, avg_loss=0.00466] \n",
      "epoch 12/20 train: 100%|██████████| 938/938 [00:08<00:00, 113.71it/s, loss=0.00431]\n",
      "epoch 12/20 val: 100%|██████████| 157/157 [00:03<00:00, 48.28it/s, avg_loss=0.00453] \n",
      "epoch 13/20 train: 100%|██████████| 938/938 [00:08<00:00, 111.93it/s, loss=0.00492]\n",
      "epoch 13/20 val: 100%|██████████| 157/157 [00:03<00:00, 49.54it/s, avg_loss=0.00457] \n",
      "epoch 14/20 train: 100%|██████████| 938/938 [00:08<00:00, 106.34it/s, loss=0.00488]\n",
      "epoch 14/20 val: 100%|██████████| 157/157 [00:06<00:00, 22.76it/s, avg_loss=0.00455]\n",
      "epoch 15/20 train: 100%|██████████| 938/938 [00:08<00:00, 113.81it/s, loss=0.00451]\n",
      "epoch 15/20 val: 100%|██████████| 157/157 [00:03<00:00, 49.22it/s, avg_loss=0.00435] \n",
      "epoch 16/20 train: 100%|██████████| 938/938 [00:08<00:00, 112.26it/s, loss=0.00482]\n",
      "epoch 16/20 val: 100%|██████████| 157/157 [00:03<00:00, 46.59it/s, avg_loss=0.00431] \n",
      "epoch 17/20 train: 100%|██████████| 938/938 [00:08<00:00, 110.29it/s, loss=0.00398]\n",
      "epoch 17/20 val: 100%|██████████| 157/157 [00:03<00:00, 49.02it/s, avg_loss=0.00435] \n",
      "epoch 18/20 train: 100%|██████████| 938/938 [00:08<00:00, 112.55it/s, loss=0.00417]\n",
      "epoch 18/20 val: 100%|██████████| 157/157 [00:03<00:00, 49.63it/s, avg_loss=0.00423] \n",
      "epoch 19/20 train: 100%|██████████| 938/938 [00:08<00:00, 111.95it/s, loss=0.0046] \n",
      "epoch 19/20 val: 100%|██████████| 157/157 [00:03<00:00, 47.65it/s, avg_loss=0.00423] \n",
      "epoch 20/20 train: 100%|██████████| 938/938 [00:08<00:00, 109.26it/s, loss=0.00472]\n",
      "epoch 20/20 val: 100%|██████████| 157/157 [00:03<00:00, 50.58it/s, avg_loss=0.00432] \n"
     ]
    }
   ],
   "source": [
    "train()"
   ]
  },
  {
   "cell_type": "markdown",
   "metadata": {},
   "source": [
    "# 显示"
   ]
  },
  {
   "cell_type": "code",
   "execution_count": 25,
   "metadata": {},
   "outputs": [],
   "source": [
    "def plot_representation(encode_images, y_test):\n",
    "    \"\"\"\n",
    "    plot the hidden result.\n",
    "    :param encode_images: the images after encoding\n",
    "    :param y_test: the label.\n",
    "    :return:\n",
    "    \"\"\"\n",
    "    # test and plot\n",
    "    plt.scatter(encode_images[:, 0], encode_images[:, 1], c=y_test, s=3)\n",
    "    plt.colorbar()\n",
    "    plt.show()"
   ]
  },
  {
   "cell_type": "code",
   "execution_count": 26,
   "metadata": {},
   "outputs": [],
   "source": [
    "def show_images(decode_images, x_test):\n",
    "    \"\"\"\n",
    "    plot the images.\n",
    "    :param decode_images: the images after decoding\n",
    "    :param x_test: testing data\n",
    "    :return:\n",
    "    \"\"\"\n",
    "    n = 10\n",
    "    plt.figure(figsize=(20, 4))\n",
    "    for i in range(n):\n",
    "        ax = plt.subplot(2, n, i+1)\n",
    "        ax.imshow(x_test[i].reshape(28, 28))\n",
    "        plt.gray()\n",
    "        ax.get_xaxis().set_visible(False)\n",
    "        ax.get_yaxis().set_visible(False)\n",
    "\n",
    "        ax = plt.subplot(2, n, i + 1 + n)\n",
    "        ax.imshow(decode_images[i].reshape(28, 28))\n",
    "        plt.gray()\n",
    "        ax.get_xaxis().set_visible(False)\n",
    "        ax.get_yaxis().set_visible(False)\n",
    "    plt.show()"
   ]
  },
  {
   "cell_type": "code",
   "execution_count": 27,
   "metadata": {},
   "outputs": [
    {
     "name": "stdout",
     "output_type": "stream",
     "text": [
      "train images: 60000, val images: 10000\n"
     ]
    }
   ],
   "source": [
    "_, _, _, val_dataloader = minst(batch_size=10)\n",
    "test_images, test_labels = next(iter(val_dataloader))"
   ]
  },
  {
   "cell_type": "code",
   "execution_count": 28,
   "metadata": {},
   "outputs": [
    {
     "data": {
      "text/plain": [
       "<All keys matched successfully>"
      ]
     },
     "execution_count": 28,
     "metadata": {},
     "output_type": "execute_result"
    }
   ],
   "source": [
    "model = ConvAutoEncoder()\n",
    "model.load_state_dict(torch.load(SAVE_PATH))"
   ]
  },
  {
   "cell_type": "code",
   "execution_count": 30,
   "metadata": {},
   "outputs": [],
   "source": [
    "model.eval()\n",
    "with torch.inference_mode():\n",
    "    # test_images = test_images.flatten(1)\n",
    "    encode_images, decode_images = model(test_images)"
   ]
  },
  {
   "cell_type": "code",
   "execution_count": null,
   "metadata": {},
   "outputs": [],
   "source": [
    "# plot_representation(encode_images, test_labels)"
   ]
  },
  {
   "cell_type": "code",
   "execution_count": 31,
   "metadata": {},
   "outputs": [
    {
     "data": {
      "image/png": "[encoded data removed]",
      "text/plain": [
       "<Figure size 2000x400 with 20 Axes>"
      ]
     },
     "metadata": {},
     "output_type": "display_data"
    }
   ],
   "source": [
    "show_images(decode_images, test_images)"
   ]
  }
 ],
 "metadata": {
  "kernelspec": {
   "display_name": "pytorch",
   "language": "python",
   "name": "python3"
  },
  "language_info": {
   "codemirror_mode": {
    "name": "ipython",
    "version": 3
   },
   "file_extension": ".py",
   "mimetype": "text/x-python",
   "name": "python",
   "nbconvert_exporter": "python",
   "pygments_lexer": "ipython3",
   "version": "3.9.15"
  },
  "orig_nbformat": 4,
  "vscode": {
   "interpreter": {
    "hash": "6e3a9582807446cfda6e60e7a572d3bab8c423d141a376f0e3f6f7956ef3b5a5"
   }
  }
 },
 "nbformat": 4,
 "nbformat_minor": 2
}
